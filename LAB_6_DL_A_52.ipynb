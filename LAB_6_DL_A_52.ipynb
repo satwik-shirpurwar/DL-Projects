{
 "cells": [
  {
   "cell_type": "markdown",
   "id": "7ddc3782",
   "metadata": {},
   "source": [
    "## Name:Satwik Shirpurwar\n",
    "## Roll No:52\n",
    "## Branch:AIML\n",
    "## Sec:A\n",
    "## Date:05-03-2025"
   ]
  },
  {
   "cell_type": "markdown",
   "id": "219c5f50",
   "metadata": {},
   "source": [
    "## FORWARD PROPOGATION"
   ]
  },
  {
   "cell_type": "code",
   "execution_count": 10,
   "id": "bd01b6cd",
   "metadata": {},
   "outputs": [
    {
     "name": "stdout",
     "output_type": "stream",
     "text": [
      "Convolution Output:\n",
      " [[-3. -2.]\n",
      " [ 0. -4.]]\n",
      "Flattened Input: [-3. -2.  0. -4.]\n",
      "Linear Output (z): -3.2\n",
      "Predicted Output (y_pred): 0.039165722796764356\n"
     ]
    }
   ],
   "source": [
    "import numpy as np\n",
    "\n",
    "# Convolution operation\n",
    "def convolve(X, K, stride=1):\n",
    "    h, w = X.shape\n",
    "    kh, kw = K.shape\n",
    "    oh, ow = h - kh + 1, w - kw + 1  # Output dimensions with no padding\n",
    "    output = np.zeros((oh, ow))\n",
    "    \n",
    "    for i in range(oh):\n",
    "        for j in range(ow):\n",
    "            output[i, j] = np.sum(X[i:i+kh, j:j+kw] * K)\n",
    "    \n",
    "    return output\n",
    "\n",
    "# Sigmoid activation function\n",
    "def sigmoid(z):\n",
    "    return 1 / (1 + np.exp(-z))\n",
    "\n",
    "# Forward pass\n",
    "def forward(X, K, W, b):\n",
    "    conv_output = convolve(X, K)  # Convolution operation\n",
    "    flat_input = conv_output.flatten()  # Flatten the feature map\n",
    "    z = np.dot(W, flat_input) + b  # Fully connected layer\n",
    "    y_pred = sigmoid(z)  # Apply activation function\n",
    "    return conv_output, flat_input, z, y_pred\n",
    "\n",
    "# Input matrix X\n",
    "X = np.array([\n",
    "    [1,0,2,3],\n",
    "    [4,6,6,8],\n",
    "    [3,1,1,0],\n",
    "    [1,2,2,4]\n",
    "])  # Example input\n",
    "\n",
    "# Kernel (Filter)\n",
    "K = np.array([\n",
    "    [1,0,-1],\n",
    "    [1,-1,0],\n",
    "    [0,1,-1]\n",
    "])  # Example kernel\n",
    "\n",
    "# Initialize weights and bias\n",
    "W = np.array([0.4, 0.3, 0.2, 0.6])  # Example weights (after flattening)\n",
    "b = 1  # Bias\n",
    "\n",
    "# Perform forward pass\n",
    "conv_output, flat_input, z, y_pred = forward(X, K, W, b)\n",
    "\n",
    "# Print results\n",
    "print(\"Convolution Output:\\n\", conv_output)\n",
    "print(\"Flattened Input:\", flat_input)\n",
    "print(\"Linear Output (z):\", z)\n",
    "print(\"Predicted Output (y_pred):\", y_pred)\n"
   ]
  },
  {
   "cell_type": "markdown",
   "id": "e1aa1475",
   "metadata": {},
   "source": [
    "## BACKWARD PROPOGATION"
   ]
  },
  {
   "cell_type": "code",
   "execution_count": 19,
   "id": "8c10cad1",
   "metadata": {
    "scrolled": true
   },
   "outputs": [
    {
     "name": "stdout",
     "output_type": "stream",
     "text": [
      "Epoch 0: Loss = 24.60988\n",
      "Final Updated Weights: [0.4112011 0.3074674 0.2       0.6149348]\n",
      "Final Updated Bias: 0.9962663006131673\n"
     ]
    }
   ],
   "source": [
    "import numpy as np\n",
    "\n",
    "# Convolution operation\n",
    "def convolve(X, K, stride=1):\n",
    "    h, w = X.shape\n",
    "    kh, kw = K.shape\n",
    "    oh, ow = h - kh + 1, w - kw + 1  # Output dimensions with no padding\n",
    "    output = np.zeros((oh, ow))\n",
    "    \n",
    "    for i in range(oh):\n",
    "        for j in range(ow):\n",
    "            output[i, j] = np.sum(X[i:i+kh, j:j+kw] * K)\n",
    "    \n",
    "    return output\n",
    "\n",
    "# Sigmoid activation function\n",
    "def sigmoid(z):\n",
    "    return 1 / (1 + np.exp(-z))\n",
    "\n",
    "# Derivative of Sigmoid\n",
    "def sigmoid_derivative(z):\n",
    "    return sigmoid(z) * (1 - sigmoid(z))\n",
    "\n",
    "# Forward pass\n",
    "def forward(X, K, W, b):\n",
    "    conv_output = convolve(X, K)  # Convolution operation\n",
    "    flat_input = conv_output.flatten()  # Flatten the feature map\n",
    "    z = np.dot(W, flat_input) + b  # Fully connected layer\n",
    "    y_pred = sigmoid(z)  # Apply activation function\n",
    "    return conv_output, flat_input, z, y_pred\n",
    "\n",
    "# Backpropagation\n",
    "def backpropagation(X, K, W, b, target, learning_rate=0.01, epochs=100):\n",
    "    for epoch in range(epochs):\n",
    "        # Forward pass\n",
    "        conv_output, flat_input, z, y_pred = forward(X, K, W, b)\n",
    "\n",
    "        # Compute Loss (MSE)\n",
    "        loss = (y_pred - target) ** 2  \n",
    "\n",
    "        # Compute Gradients\n",
    "        dL_dy_pred = 2 * (y_pred - target)  # Derivative of MSE loss\n",
    "        dy_pred_dz = sigmoid_derivative(z)  # Derivative of sigmoid\n",
    "        dz_dW = flat_input  # Derivative of z w.r.t weights\n",
    "        dz_db = 1  # Derivative of z w.r.t bias\n",
    "\n",
    "        # Compute updates\n",
    "        dL_dW = dL_dy_pred * dy_pred_dz * dz_dW\n",
    "        dL_db = dL_dy_pred * dy_pred_dz * dz_db\n",
    "\n",
    "        # Update weights and bias using gradient descent\n",
    "        W += learning_rate * dL_dW\n",
    "        b += learning_rate * dL_db\n",
    "\n",
    "        # Print loss for every 10 epochs\n",
    "        if epoch % 10 == 0:\n",
    "            print(f\"Epoch {epoch}: Loss = {loss:.5f}\")\n",
    "\n",
    "    print(\"Final Updated Weights:\", W)\n",
    "    print(\"Final Updated Bias:\", b)\n",
    "    \n",
    "    return W, b\n",
    "\n",
    "# Input matrix X\n",
    "X = np.array([\n",
    "    [1, 0, 2, 3],\n",
    "    [4, 6, 6, 8],\n",
    "    [3, 1, 1, 0],\n",
    "    [1, 2, 2, 4]\n",
    "])  # Example input\n",
    "\n",
    "# Kernel (Filter)\n",
    "K = np.array([\n",
    "    [1, 0, -1],\n",
    "    [1, -1, 0],\n",
    "    [0, 1, -1]\n",
    "])  # Example kernel\n",
    "\n",
    "# Initialize weights and bias (random values)\n",
    "W = np.array([0.4, 0.3, 0.2, 0.6])  \n",
    "b = 1\n",
    "\n",
    "# Target output\n",
    "target = 5  \n",
    "\n",
    "# Number of epochs (iterations)\n",
    "epochs = 1 \n",
    "\n",
    "# Perform backpropagation with multiple iterations\n",
    "W, b = backpropagation(X, K, W, b, target, epochs=epochs)\n"
   ]
  },
  {
   "cell_type": "code",
   "execution_count": null,
   "id": "2841309c",
   "metadata": {},
   "outputs": [],
   "source": []
  }
 ],
 "metadata": {
  "kernelspec": {
   "display_name": "Python 3 (ipykernel)",
   "language": "python",
   "name": "python3"
  },
  "language_info": {
   "codemirror_mode": {
    "name": "ipython",
    "version": 3
   },
   "file_extension": ".py",
   "mimetype": "text/x-python",
   "name": "python",
   "nbconvert_exporter": "python",
   "pygments_lexer": "ipython3",
   "version": "3.11.5"
  }
 },
 "nbformat": 4,
 "nbformat_minor": 5
}
