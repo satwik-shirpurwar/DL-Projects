{
 "cells": [
  {
   "cell_type": "markdown",
   "id": "6da6b7eb",
   "metadata": {},
   "source": [
    "## Name : Satwik Shirpurwar\n",
    "## Batch : A3\n",
    "## Roll No: 52\n",
    "\n"
   ]
  },
  {
   "cell_type": "markdown",
   "id": "9b9b6338",
   "metadata": {},
   "source": [
    "<b>Create a neural network from scratch for a multiclass classification task with the following architecture:<br><b>\n",
    "Input layer: 4 neurons<br>\n",
    "First hidden layer: 3 neurons<br>\n",
    "Second hidden layer: 4 neurons<br>\n",
    "Output layer: 3 neurons<br>\n",
    "Generate a random dataset for a 3-class classification problem. Apply the designed neural network on generated dataset using the ReLU activation function in the hidden layers and the softmax activation function in the output\n",
    "layer for multiclass classification. Use categorical cross-entropy as the loss function for training. Additionally, implement the Gradient Descent, Momentum based GD, NAG, AdaGrad, RMS prop, Adam optimizer as part of the training\n",
    "process. Train the neural network using all optimizers and evaluate their performance on the dataset using performance metrics accuracy."
   ]
  },
  {
   "cell_type": "markdown",
   "id": "dca0c588",
   "metadata": {},
   "source": [
    "## Part 1: Dataset Generation"
   ]
  },
  {
   "cell_type": "code",
   "execution_count": 1,
   "id": "e425722f",
   "metadata": {},
   "outputs": [
    {
     "name": "stdout",
     "output_type": "stream",
     "text": [
      "Training data shape: (800, 4)\n",
      "Testing data shape: (200, 4)\n",
      "One-hot encoded labels:\n",
      "[[0. 0. 1.]\n",
      " [0. 1. 0.]\n",
      " [1. 0. 0.]\n",
      " [0. 0. 1.]\n",
      " [1. 0. 0.]]\n"
     ]
    }
   ],
   "source": [
    "import numpy as np\n",
    "import pandas as pd\n",
    "from sklearn.datasets import make_classification\n",
    "from sklearn.preprocessing import OneHotEncoder\n",
    "from sklearn.model_selection import train_test_split\n",
    "\n",
    "# Generate dataset with 1000 records, 4 features, and 3 classes\n",
    "X, y = make_classification(\n",
    "    n_samples=1000, n_features=4, n_classes=3, n_informative=3, n_redundant=1, random_state=42\n",
    ")\n",
    "\n",
    "# Reshape labels for encoding\n",
    "y = y.reshape(-1, 1)\n",
    "\n",
    "# One-hot encode the labels\n",
    "encoder = OneHotEncoder(sparse_output=False)  # Use sparse_output=False\n",
    "y_encoded = encoder.fit_transform(y)\n",
    "\n",
    "# Create a DataFrame for better readability\n",
    "df = pd.DataFrame(X, columns=[\"Feature1\", \"Feature2\", \"Feature3\", \"Feature4\"])\n",
    "df['Class'] = encoder.inverse_transform(y_encoded)\n",
    "\n",
    "\n",
    "\n",
    "\n",
    "\n",
    "X_train, X_test, y_train, y_test = train_test_split(X, y_encoded, test_size=0.2, random_state=42)\n",
    "\n",
    "print(f\"Training data shape: {X_train.shape}\")\n",
    "print(f\"Testing data shape: {X_test.shape}\")\n",
    "print(f\"One-hot encoded labels:\\n{y_encoded[:5]}\")\n",
    "\n",
    "\n"
   ]
  },
  {
   "cell_type": "code",
   "execution_count": 2,
   "id": "b5b0eb07",
   "metadata": {},
   "outputs": [
    {
     "name": "stdout",
     "output_type": "stream",
     "text": [
      "   Feature1  Feature2  Feature3  Feature4  Class\n",
      "0 -0.763577 -1.376368 -1.329212 -0.811226      2\n",
      "1  0.798776  1.479103 -0.123530 -1.829664      1\n",
      "2  0.251711 -1.183120  1.436410 -1.228790      0\n",
      "3 -0.628048 -1.596094 -0.400482 -0.344888      2\n",
      "4 -0.179159 -1.202407  0.872089  0.185406      0\n"
     ]
    }
   ],
   "source": [
    "print(df.head())"
   ]
  },
  {
   "cell_type": "code",
   "execution_count": 3,
   "id": "33fdf001",
   "metadata": {},
   "outputs": [
    {
     "data": {
      "text/plain": [
       "(1000, 5)"
      ]
     },
     "execution_count": 3,
     "metadata": {},
     "output_type": "execute_result"
    }
   ],
   "source": [
    "df.shape"
   ]
  },
  {
   "cell_type": "markdown",
   "id": "7a07f52d",
   "metadata": {},
   "source": [
    "## Part 2: Neural Network Initialization"
   ]
  },
  {
   "cell_type": "code",
   "execution_count": 4,
   "id": "a72fc33e",
   "metadata": {},
   "outputs": [
    {
     "name": "stdout",
     "output_type": "stream",
     "text": [
      "W1 shape: (4, 3)\n",
      "b1 shape: (1, 3)\n",
      "W2 shape: (3, 4)\n",
      "b2 shape: (1, 4)\n",
      "W3 shape: (4, 3)\n",
      "b3 shape: (1, 3)\n"
     ]
    }
   ],
   "source": [
    "def initialize_parameters():\n",
    "    np.random.seed(42)  # For reproducibility\n",
    "    parameters = {\n",
    "        \"W1\": np.random.randn(4, 3) * 0.01,  # Weights for input -> first hidden layer\n",
    "        \"b1\": np.zeros((1, 3)),             # Bias for first hidden layer\n",
    "        \"W2\": np.random.randn(3, 4) * 0.01, # Weights for first -> second hidden layer\n",
    "        \"b2\": np.zeros((1, 4)),             # Bias for second hidden layer\n",
    "        \"W3\": np.random.randn(4, 3) * 0.01, # Weights for second hidden -> output layer\n",
    "        \"b3\": np.zeros((1, 3))              # Bias for output layer\n",
    "    }\n",
    "    return parameters\n",
    "\n",
    "# Initialize parameters\n",
    "parameters = initialize_parameters()\n",
    "\n",
    "# Display initialized parameters\n",
    "for key, value in parameters.items():\n",
    "    print(f\"{key} shape: {value.shape}\")\n",
    "\n"
   ]
  },
  {
   "cell_type": "markdown",
   "id": "b63e4670",
   "metadata": {},
   "source": [
    "## Part 3: Activation Functions"
   ]
  },
  {
   "cell_type": "code",
   "execution_count": 5,
   "id": "aa8b6b4f",
   "metadata": {},
   "outputs": [],
   "source": [
    "def relu(Z):\n",
    "    return np.maximum(0, Z)\n",
    "\n",
    "def softmax(Z):\n",
    "    exp_values = np.exp(Z - np.max(Z, axis=1, keepdims=True))  # Numerical stability\n",
    "    return exp_values / np.sum(exp_values, axis=1, keepdims=True)\n",
    "\n",
    "def forward_propagation(X, parameters):\n",
    "    # First hidden layer\n",
    "    Z1 = np.dot(X, parameters[\"W1\"]) + parameters[\"b1\"]\n",
    "    A1 = relu(Z1)\n",
    "    \n",
    "    # Second hidden layer\n",
    "    Z2 = np.dot(A1, parameters[\"W2\"]) + parameters[\"b2\"]\n",
    "    A2 = relu(Z2)\n",
    "    \n",
    "    # Output layer\n",
    "    Z3 = np.dot(A2, parameters[\"W3\"]) + parameters[\"b3\"]\n",
    "    A3 = softmax(Z3)\n",
    "    \n",
    "    # Store intermediate values for backpropagation\n",
    "    cache = {\"Z1\": Z1, \"A1\": A1, \"Z2\": Z2, \"A2\": A2, \"Z3\": Z3, \"A3\": A3}\n",
    "    return A3, cache\n"
   ]
  },
  {
   "cell_type": "code",
   "execution_count": 6,
   "id": "57057efa",
   "metadata": {},
   "outputs": [
    {
     "name": "stdout",
     "output_type": "stream",
     "text": [
      "Output predictions shape: (800, 3)\n",
      "First 5 predictions:\n",
      "[[0.33333341 0.33333327 0.33333332]\n",
      " [0.33333333 0.33333333 0.33333333]\n",
      " [0.33333333 0.33333336 0.33333331]\n",
      " [0.33333332 0.33333354 0.33333315]\n",
      " [0.33333333 0.33333333 0.33333333]]\n"
     ]
    }
   ],
   "source": [
    "# Test forward propagation\n",
    "A3, cache = forward_propagation(X_train, parameters)\n",
    "\n",
    "# Display the shape of output predictions\n",
    "print(f\"Output predictions shape: {A3.shape}\")\n",
    "\n",
    "# Display first 5 predictions\n",
    "print(f\"First 5 predictions:\\n{A3[:5]}\")\n"
   ]
  },
  {
   "cell_type": "markdown",
   "id": "ead68b64",
   "metadata": {},
   "source": [
    "## Part 4: Implement Loss calculation"
   ]
  },
  {
   "cell_type": "code",
   "execution_count": 7,
   "id": "8e26fa1f",
   "metadata": {},
   "outputs": [
    {
     "name": "stdout",
     "output_type": "stream",
     "text": [
      "Initial loss: 1.09861221465594\n"
     ]
    }
   ],
   "source": [
    "def compute_loss(y_true, y_pred):\n",
    "    m = y_true.shape[0]  # Number of samples\n",
    "    loss = -np.sum(y_true * np.log(y_pred + 1e-8)) / m  # Add epsilon for numerical stability\n",
    "    return loss\n",
    "\n",
    "# Test loss calculation\n",
    "loss = compute_loss(y_train, A3)\n",
    "\n",
    "# Display the calculated loss\n",
    "print(f\"Initial loss: {loss}\")\n"
   ]
  },
  {
   "cell_type": "markdown",
   "id": "4d292813",
   "metadata": {},
   "source": [
    "## Step 5: Implement Backward Propagation"
   ]
  },
  {
   "cell_type": "code",
   "execution_count": 8,
   "id": "b9e97863",
   "metadata": {},
   "outputs": [],
   "source": [
    "def relu_derivative(Z):\n",
    "    return Z > 0  # Gradient of ReLU: 1 for Z > 0, otherwise 0\n",
    "\n",
    "def backward_propagation(X, Y, parameters, cache):\n",
    "    m = X.shape[0]  # Number of samples\n",
    "\n",
    "    # Gradients for the output layer\n",
    "    dZ3 = cache[\"A3\"] - Y\n",
    "    dW3 = np.dot(cache[\"A2\"].T, dZ3) / m\n",
    "    db3 = np.sum(dZ3, axis=0, keepdims=True) / m\n",
    "\n",
    "    # Gradients for the second hidden layer\n",
    "    dZ2 = np.dot(dZ3, parameters[\"W3\"].T) * relu_derivative(cache[\"Z2\"])\n",
    "    dW2 = np.dot(cache[\"A1\"].T, dZ2) / m\n",
    "    db2 = np.sum(dZ2, axis=0, keepdims=True) / m\n",
    "\n",
    "    # Gradients for the first hidden layer\n",
    "    dZ1 = np.dot(dZ2, parameters[\"W2\"].T) * relu_derivative(cache[\"Z1\"])\n",
    "    dW1 = np.dot(X.T, dZ1) / m\n",
    "    db1 = np.sum(dZ1, axis=0, keepdims=True) / m\n",
    "\n",
    "    # Store gradients in a dictionary\n",
    "    gradients = {\n",
    "        \"dW1\": dW1, \"db1\": db1,\n",
    "        \"dW2\": dW2, \"db2\": db2,\n",
    "        \"dW3\": dW3, \"db3\": db3\n",
    "    }\n",
    "    return gradients\n",
    "\n"
   ]
  },
  {
   "cell_type": "code",
   "execution_count": 9,
   "id": "037e2462",
   "metadata": {},
   "outputs": [
    {
     "name": "stdout",
     "output_type": "stream",
     "text": [
      "dW1 shape: (4, 3)\n",
      "db1 shape: (1, 3)\n",
      "dW2 shape: (3, 4)\n",
      "db2 shape: (1, 4)\n",
      "dW3 shape: (4, 3)\n",
      "db3 shape: (1, 3)\n"
     ]
    }
   ],
   "source": [
    "# Test backward propagation\n",
    "gradients = backward_propagation(X_train, y_train, parameters, cache)\n",
    "\n",
    "# Display the shapes of gradients\n",
    "for key, value in gradients.items():\n",
    "    print(f\"{key} shape: {value.shape}\")\n"
   ]
  },
  {
   "cell_type": "markdown",
   "id": "76ee557b",
   "metadata": {},
   "source": [
    "## Step 6: Gradient Descent Optimization and Training"
   ]
  },
  {
   "cell_type": "code",
   "execution_count": 10,
   "id": "f7e8ea98",
   "metadata": {},
   "outputs": [
    {
     "name": "stdout",
     "output_type": "stream",
     "text": [
      "Requirement already satisfied: torch in c:\\users\\cse\\anaconda3\\lib\\site-packages (2.6.0)\n",
      "Requirement already satisfied: filelock in c:\\users\\cse\\anaconda3\\lib\\site-packages (from torch) (3.9.0)\n",
      "Requirement already satisfied: typing-extensions>=4.10.0 in c:\\users\\cse\\anaconda3\\lib\\site-packages (from torch) (4.12.2)\n",
      "Requirement already satisfied: networkx in c:\\users\\cse\\anaconda3\\lib\\site-packages (from torch) (3.1)\n",
      "Requirement already satisfied: jinja2 in c:\\users\\cse\\anaconda3\\lib\\site-packages (from torch) (3.1.2)\n",
      "Requirement already satisfied: fsspec in c:\\users\\cse\\anaconda3\\lib\\site-packages (from torch) (2023.4.0)\n",
      "Requirement already satisfied: sympy==1.13.1 in c:\\users\\cse\\anaconda3\\lib\\site-packages (from torch) (1.13.1)\n",
      "Requirement already satisfied: mpmath<1.4,>=1.1.0 in c:\\users\\cse\\anaconda3\\lib\\site-packages (from sympy==1.13.1->torch) (1.3.0)\n",
      "Requirement already satisfied: MarkupSafe>=2.0 in c:\\users\\cse\\anaconda3\\lib\\site-packages (from jinja2->torch) (2.1.1)\n",
      "Note: you may need to restart the kernel to use updated packages.\n"
     ]
    }
   ],
   "source": [
    "pip install torch\n"
   ]
  },
  {
   "cell_type": "code",
   "execution_count": 17,
   "id": "8e30bc86",
   "metadata": {},
   "outputs": [
    {
     "name": "stdout",
     "output_type": "stream",
     "text": [
      "y_train_tensor shape: torch.Size([800])\n",
      "y_test_tensor shape: torch.Size([200])\n"
     ]
    },
    {
     "data": {
      "image/png": "[encoded data removed]",
      "text/plain": [
       "<Figure size 1000x600 with 1 Axes>"
      ]
     },
     "metadata": {},
     "output_type": "display_data"
    }
   ],
   "source": [
    "import torch\n",
    "import torch.nn as nn\n",
    "import torch.optim as optim\n",
    "from sklearn.model_selection import train_test_split\n",
    "from sklearn.metrics import accuracy_score\n",
    "import matplotlib.pyplot as plt\n",
    "import numpy as np  # Make sure to import numpy\n",
    "\n",
    "# Assuming the dataset is already loaded into 'X' and 'y'\n",
    "# X = features, y = labels\n",
    "\n",
    "# Split the data into training and testing sets\n",
    "X_train, X_test, y_train, y_test = train_test_split(X, y, test_size=0.2, random_state=42)\n",
    "\n",
    "# Convert data to PyTorch tensors (y_train and y_test are already numpy arrays)\n",
    "X_train_tensor = torch.tensor(X_train, dtype=torch.float32)\n",
    "\n",
    "# Ensure that y_train is a 1D tensor of class indices (not one-hot encoded)\n",
    "# Convert y_train to a 1D tensor if it's not already 1D (e.g., numpy array of integers)\n",
    "y_train_tensor = torch.tensor(y_train, dtype=torch.long).view(-1)  # Ensure it's 1D\n",
    "y_test_tensor = torch.tensor(y_test, dtype=torch.long).view(-1)  # Ensure it's 1D\n",
    "\n",
    "X_test_tensor = torch.tensor(X_test, dtype=torch.float32)\n",
    "\n",
    "# Print shapes to check\n",
    "print(\"y_train_tensor shape:\", y_train_tensor.shape)\n",
    "print(\"y_test_tensor shape:\", y_test_tensor.shape)\n",
    "\n",
    "# Define a simple neural network model\n",
    "class SimpleNN(nn.Module):\n",
    "    def __init__(self, input_size, hidden_size, output_size):\n",
    "        super(SimpleNN, self).__init__()\n",
    "        self.fc1 = nn.Linear(input_size, hidden_size)\n",
    "        self.fc2 = nn.Linear(hidden_size, output_size)\n",
    "\n",
    "    def forward(self, x):\n",
    "        x = torch.relu(self.fc1(x))\n",
    "        x = self.fc2(x)\n",
    "        return x\n",
    "\n",
    "# Initialize the model\n",
    "input_size = X_train.shape[1]\n",
    "hidden_size = 64\n",
    "output_size = len(np.unique(y_train))  # Number of unique classes\n",
    "\n",
    "# Define the loss function\n",
    "criterion = nn.CrossEntropyLoss()\n",
    "\n",
    "# Define the optimizers\n",
    "optimizers = {\n",
    "    'SGD': optim.SGD,\n",
    "    'Momentum': optim.SGD,\n",
    "    'NAG': optim.SGD,\n",
    "    'AdaGrad': optim.Adagrad,\n",
    "    'RMSprop': optim.RMSprop,\n",
    "    'Adam': optim.Adam\n",
    "}\n",
    "\n",
    "# Train and evaluate the model with each optimizer\n",
    "results = {}\n",
    "\n",
    "for optimizer_name, optimizer_class in optimizers.items():\n",
    "    # Initialize the model and optimizer for each run\n",
    "    model = SimpleNN(input_size, hidden_size, output_size)\n",
    "    optimizer = optimizer_class(model.parameters(), lr=0.01)\n",
    "    \n",
    "    # Training loop\n",
    "    epochs = 50\n",
    "    for epoch in range(epochs):\n",
    "        model.train()\n",
    "        optimizer.zero_grad()\n",
    "        output = model(X_train_tensor)\n",
    "        loss = criterion(output, y_train_tensor)  # This should work if y_train_tensor is 1D\n",
    "        loss.backward()\n",
    "        optimizer.step()\n",
    "        \n",
    "    # Evaluate the model\n",
    "    model.eval()\n",
    "    with torch.no_grad():\n",
    "        output = model(X_test_tensor)\n",
    "        _, predicted = torch.max(output, 1)\n",
    "        \n",
    "        # Convert tensors to NumPy arrays for accuracy calculation\n",
    "        accuracy = accuracy_score(y_test_tensor.numpy(), predicted.numpy())\n",
    "        results[optimizer_name] = accuracy\n",
    "\n",
    "# Plot the performance of each optimizer\n",
    "plt.figure(figsize=(10, 6))\n",
    "plt.bar(results.keys(), results.values())\n",
    "plt.title('Performance of Optimizers')\n",
    "plt.xlabel('Optimizer')\n",
    "plt.ylabel('Accuracy')\n",
    "plt.show()"
   ]
  },
  {
   "cell_type": "code",
   "execution_count": 18,
   "id": "bd7fcdb0",
   "metadata": {},
   "outputs": [
    {
     "name": "stdout",
     "output_type": "stream",
     "text": [
      "Epoch 0 - Loss: 3.2546\n",
      "Epoch 100 - Loss: 3.2546\n",
      "Epoch 200 - Loss: 3.2546\n",
      "Epoch 300 - Loss: 3.2546\n",
      "Epoch 400 - Loss: 3.2546\n",
      "Epoch 500 - Loss: 3.2547\n",
      "Epoch 600 - Loss: 3.2547\n",
      "Epoch 700 - Loss: nan\n",
      "Epoch 800 - Loss: nan\n",
      "Epoch 900 - Loss: nan\n"
     ]
    },
    {
     "name": "stderr",
     "output_type": "stream",
     "text": [
      "C:\\Users\\cse\\AppData\\Local\\Temp\\ipykernel_388\\1717714025.py:5: RuntimeWarning: invalid value encountered in subtract\n",
      "  exp_values = np.exp(Z - np.max(Z, axis=1, keepdims=True))  # Numerical stability\n",
      "C:\\Users\\cse\\AppData\\Local\\Temp\\ipykernel_388\\2643721641.py:18: RuntimeWarning: invalid value encountered in multiply\n",
      "  dZ1 = np.dot(dZ2, parameters[\"W2\"].T) * relu_derivative(cache[\"Z1\"])\n"
     ]
    }
   ],
   "source": [
    "def update_parameters(parameters, gradients, learning_rate=0.01):\n",
    "    parameters[\"W1\"] -= learning_rate * gradients[\"dW1\"]\n",
    "    parameters[\"b1\"] -= learning_rate * gradients[\"db1\"]\n",
    "    parameters[\"W2\"] -= learning_rate * gradients[\"dW2\"]\n",
    "    parameters[\"b2\"] -= learning_rate * gradients[\"db2\"]\n",
    "    parameters[\"W3\"] -= learning_rate * gradients[\"dW3\"]\n",
    "    parameters[\"b3\"] -= learning_rate * gradients[\"db3\"]\n",
    "    return parameters\n",
    "\n",
    "def train_model(X_train, y_train, parameters, epochs=1000, learning_rate=0.01):\n",
    "    for epoch in range(epochs):\n",
    "        # Forward propagation\n",
    "        A3, cache = forward_propagation(X_train, parameters)\n",
    "\n",
    "        # Compute loss\n",
    "        loss = compute_loss(y_train, A3)\n",
    "\n",
    "        # Backward propagation\n",
    "        gradients = backward_propagation(X_train, y_train, parameters, cache)\n",
    "\n",
    "        # Update parameters using gradient descent\n",
    "        parameters = update_parameters(parameters, gradients, learning_rate)\n",
    "\n",
    "        # Print loss every 100 epochs\n",
    "        if epoch % 100 == 0:\n",
    "            print(f\"Epoch {epoch} - Loss: {loss:.4f}\")\n",
    "\n",
    "    return parameters\n",
    "\n",
    "# Train the model\n",
    "parameters_trained = train_model(X_train, y_train, parameters, epochs=1000, learning_rate=0.01)\n"
   ]
  },
  {
   "cell_type": "markdown",
   "id": "b3284701",
   "metadata": {},
   "source": [
    "## Step 7: Evaluating the Model's Performance"
   ]
  },
  {
   "cell_type": "code",
   "execution_count": 19,
   "id": "a5e77269",
   "metadata": {},
   "outputs": [
    {
     "name": "stdout",
     "output_type": "stream",
     "text": [
      "Test accuracy: 100.00%\n"
     ]
    }
   ],
   "source": [
    "def predict(X, parameters):\n",
    "    # Perform forward propagation to get predictions\n",
    "    A3, _ = forward_propagation(X, parameters)\n",
    "    \n",
    "    # Get the predicted class by choosing the class with the highest probability\n",
    "    predictions = np.argmax(A3, axis=1)\n",
    "    return predictions\n",
    "\n",
    "def compute_accuracy(y_true, y_pred):\n",
    "    # Calculate accuracy by comparing predicted and true labels\n",
    "    correct_predictions = np.sum(np.argmax(y_true, axis=1) == y_pred)\n",
    "    accuracy = correct_predictions / y_true.shape[0] * 100\n",
    "    return accuracy\n",
    "\n",
    "# Test the model on the test set\n",
    "y_pred = predict(X_test, parameters_trained)\n",
    "\n",
    "# Calculate the accuracy\n",
    "accuracy = compute_accuracy(y_test, y_pred)\n",
    "\n",
    "# Display the accuracy\n",
    "print(f\"Test accuracy: {accuracy:.2f}%\")\n"
   ]
  },
  {
   "cell_type": "code",
   "execution_count": 21,
   "id": "0749097a",
   "metadata": {},
   "outputs": [],
   "source": [
    "from sklearn.linear_model import LogisticRegression\n",
    "from sklearn.model_selection import GridSearchCV\n",
    "from sklearn.metrics import classification_report\n"
   ]
  },
  {
   "cell_type": "markdown",
   "id": "254eb258",
   "metadata": {},
   "source": [
    "## 8. Model Tuning"
   ]
  },
  {
   "cell_type": "code",
   "execution_count": 22,
   "id": "b3a49b7a",
   "metadata": {},
   "outputs": [
    {
     "name": "stdout",
     "output_type": "stream",
     "text": [
      "Index(['Feature1', 'Feature2', 'Feature3', 'Feature4', 'Class'], dtype='object')\n",
      "Best Hyperparameters: {'C': 1, 'solver': 'liblinear'}\n",
      "Accuracy: 64.00%\n"
     ]
    }
   ],
   "source": [
    "import numpy as np\n",
    "import pandas as pd\n",
    "from sklearn.model_selection import train_test_split\n",
    "from sklearn.linear_model import LogisticRegression\n",
    "from sklearn.model_selection import GridSearchCV\n",
    "from sklearn.metrics import accuracy_score\n",
    "\n",
    "# Assuming your dataset is loaded into a pandas DataFrame 'df'\n",
    "# Example: df = pd.read_csv('your_data.csv')\n",
    "\n",
    "# Print column names to verify the correct column name\n",
    "print(df.columns)\n",
    "\n",
    "# Replace 'target_column_name' with 'Class' as the actual target column\n",
    "target_column_name = 'Class'\n",
    "\n",
    "# Split the data into features and target\n",
    "X = df.drop(target_column_name, axis=1)  # Features (drop target column)\n",
    "y = df[target_column_name]  # Target column ('Class')\n",
    "\n",
    "# Ensure y is a 1D array\n",
    "y = y.values.flatten()\n",
    "\n",
    "# Split the data into training and testing sets\n",
    "X_train, X_test, y_train, y_test = train_test_split(X, y, test_size=0.2, random_state=42)\n",
    "\n",
    "# Hyperparameter tuning using GridSearchCV (for Logistic Regression)\n",
    "param_grid = {\n",
    "    'C': [0.1, 1, 10, 100],  # Regularization strength\n",
    "    'solver': ['liblinear', 'lbfgs'],  # Solvers to choose from\n",
    "}\n",
    "\n",
    "# Initialize GridSearchCV with Logistic Regression\n",
    "grid_search = GridSearchCV(LogisticRegression(max_iter=1000, random_state=42), param_grid, cv=5, n_jobs=-1)\n",
    "\n",
    "# Fit the model with training data\n",
    "grid_search.fit(X_train, y_train)\n",
    "\n",
    "# Best hyperparameters found by GridSearchCV\n",
    "print(\"Best Hyperparameters:\", grid_search.best_params_)\n",
    "\n",
    "# Make predictions using the best model\n",
    "y_pred = grid_search.best_estimator_.predict(X_test)\n",
    "\n",
    "# Evaluate the model\n",
    "accuracy = accuracy_score(y_test, y_pred)\n",
    "print(f'Accuracy: {accuracy * 100:.2f}%')\n",
    "\n"
   ]
  },
  {
   "cell_type": "markdown",
   "id": "2feac6b1",
   "metadata": {},
   "source": [
    "## Step 9: Evaluate the Model"
   ]
  },
  {
   "cell_type": "code",
   "execution_count": 23,
   "id": "10bc21d7",
   "metadata": {},
   "outputs": [
    {
     "name": "stdout",
     "output_type": "stream",
     "text": [
      "Requirement already satisfied: matplotlib in c:\\users\\cse\\anaconda3\\lib\\site-packages (3.7.2)\n",
      "Requirement already satisfied: seaborn in c:\\users\\cse\\anaconda3\\lib\\site-packages (0.12.2)\n",
      "Requirement already satisfied: scikit-learn in c:\\users\\cse\\anaconda3\\lib\\site-packages (1.3.0)\n",
      "Requirement already satisfied: contourpy>=1.0.1 in c:\\users\\cse\\anaconda3\\lib\\site-packages (from matplotlib) (1.0.5)\n",
      "Requirement already satisfied: cycler>=0.10 in c:\\users\\cse\\anaconda3\\lib\\site-packages (from matplotlib) (0.11.0)\n",
      "Requirement already satisfied: fonttools>=4.22.0 in c:\\users\\cse\\anaconda3\\lib\\site-packages (from matplotlib) (4.25.0)\n",
      "Requirement already satisfied: kiwisolver>=1.0.1 in c:\\users\\cse\\anaconda3\\lib\\site-packages (from matplotlib) (1.4.4)\n",
      "Requirement already satisfied: numpy>=1.20 in c:\\users\\cse\\anaconda3\\lib\\site-packages (from matplotlib) (1.24.3)\n",
      "Requirement already satisfied: packaging>=20.0 in c:\\users\\cse\\anaconda3\\lib\\site-packages (from matplotlib) (23.1)\n",
      "Requirement already satisfied: pillow>=6.2.0 in c:\\users\\cse\\anaconda3\\lib\\site-packages (from matplotlib) (10.3.0)\n",
      "Requirement already satisfied: pyparsing<3.1,>=2.3.1 in c:\\users\\cse\\anaconda3\\lib\\site-packages (from matplotlib) (3.0.9)\n",
      "Requirement already satisfied: python-dateutil>=2.7 in c:\\users\\cse\\anaconda3\\lib\\site-packages (from matplotlib) (2.8.2)\n",
      "Requirement already satisfied: pandas>=0.25 in c:\\users\\cse\\anaconda3\\lib\\site-packages (from seaborn) (2.0.3)\n",
      "Requirement already satisfied: scipy>=1.5.0 in c:\\users\\cse\\anaconda3\\lib\\site-packages (from scikit-learn) (1.11.1)\n",
      "Requirement already satisfied: joblib>=1.1.1 in c:\\users\\cse\\anaconda3\\lib\\site-packages (from scikit-learn) (1.2.0)\n",
      "Requirement already satisfied: threadpoolctl>=2.0.0 in c:\\users\\cse\\anaconda3\\lib\\site-packages (from scikit-learn) (2.2.0)\n",
      "Requirement already satisfied: pytz>=2020.1 in c:\\users\\cse\\anaconda3\\lib\\site-packages (from pandas>=0.25->seaborn) (2023.3.post1)\n",
      "Requirement already satisfied: tzdata>=2022.1 in c:\\users\\cse\\anaconda3\\lib\\site-packages (from pandas>=0.25->seaborn) (2023.3)\n",
      "Requirement already satisfied: six>=1.5 in c:\\users\\cse\\anaconda3\\lib\\site-packages (from python-dateutil>=2.7->matplotlib) (1.16.0)\n",
      "Note: you may need to restart the kernel to use updated packages.\n"
     ]
    }
   ],
   "source": [
    "pip install matplotlib seaborn scikit-learn\n"
   ]
  },
  {
   "cell_type": "code",
   "execution_count": 24,
   "id": "a384d29f",
   "metadata": {},
   "outputs": [
    {
     "name": "stdout",
     "output_type": "stream",
     "text": [
      "Classification Report:\n",
      "               precision    recall  f1-score   support\n",
      "\n",
      "           0       0.89      0.86      0.88        65\n",
      "           1       0.82      0.90      0.86        62\n",
      "           2       0.93      0.88      0.90        73\n",
      "\n",
      "    accuracy                           0.88       200\n",
      "   macro avg       0.88      0.88      0.88       200\n",
      "weighted avg       0.88      0.88      0.88       200\n",
      "\n",
      "ROC-AUC (Macro Average): 0.48\n"
     ]
    },
    {
     "data": {
      "image/png": "[encoded data removed]",
      "text/plain": [
       "<Figure size 1000x800 with 1 Axes>"
      ]
     },
     "metadata": {},
     "output_type": "display_data"
    },
    {
     "data": {
      "image/png": "[encoded data removed]",
      "text/plain": [
       "<Figure size 800x600 with 2 Axes>"
      ]
     },
     "metadata": {},
     "output_type": "display_data"
    },
    {
     "data": {
      "image/png": "[encoded data removed]",
      "text/plain": [
       "<Figure size 1000x600 with 1 Axes>"
      ]
     },
     "metadata": {},
     "output_type": "display_data"
    }
   ],
   "source": [
    "import pandas as pd\n",
    "import matplotlib.pyplot as plt\n",
    "from sklearn.model_selection import train_test_split\n",
    "from sklearn.preprocessing import StandardScaler, label_binarize\n",
    "from sklearn.metrics import classification_report, roc_auc_score, confusion_matrix, roc_curve\n",
    "from sklearn.ensemble import RandomForestClassifier\n",
    "from sklearn.model_selection import GridSearchCV\n",
    "import seaborn as sns\n",
    "\n",
    "# Assuming your dataset is loaded into a pandas DataFrame 'df'\n",
    "# Example: df = pd.read_csv('your_data.csv')\n",
    "\n",
    "# Specify the target column and features\n",
    "target_column_name = 'Class'  # Replace this with the actual name of your target column\n",
    "X = df.drop(target_column_name, axis=1)\n",
    "y = df[target_column_name]\n",
    "\n",
    "# Step 1: Split the data into training and testing sets\n",
    "X_train, X_test, y_train, y_test = train_test_split(X, y, test_size=0.2, random_state=42)\n",
    "\n",
    "# Step 2: Feature scaling\n",
    "scaler = StandardScaler()\n",
    "X_train = scaler.fit_transform(X_train)\n",
    "X_test = scaler.transform(X_test)\n",
    "\n",
    "# Step 3: Train a Random Forest classifier (or any model you prefer)\n",
    "clf = RandomForestClassifier(random_state=42)\n",
    "param_grid = {'n_estimators': [100, 200], 'max_depth': [10, 20, None]}  # Example hyperparameters\n",
    "grid_search = GridSearchCV(clf, param_grid, cv=3)\n",
    "grid_search.fit(X_train, y_train)\n",
    "\n",
    "# Step 4: Make predictions\n",
    "y_pred = grid_search.best_estimator_.predict(X_test)\n",
    "\n",
    "# Step 5: Print classification report\n",
    "class_report = classification_report(y_test, y_pred)\n",
    "print(\"Classification Report:\\n\", class_report)\n",
    "\n",
    "# Step 6: Compute ROC-AUC for multi-class classification\n",
    "# Convert labels to binary format\n",
    "y_test_bin = label_binarize(y_test, classes=df[target_column_name].unique())\n",
    "y_pred_prob = grid_search.best_estimator_.predict_proba(X_test)\n",
    "\n",
    "# Compute ROC-AUC score (Macro average for multi-class classification)\n",
    "roc_auc = roc_auc_score(y_test_bin, y_pred_prob, average='macro', multi_class='ovr')\n",
    "print(f\"ROC-AUC (Macro Average): {roc_auc:.2f}\")\n",
    "\n",
    "# Step 7: Plot ROC Curve for each class\n",
    "plt.figure(figsize=(10, 8))\n",
    "fpr, tpr, _ = roc_curve(y_test_bin[:, 0], y_pred_prob[:, 0])  # Adjust for each class\n",
    "plt.plot(fpr, tpr, label=f'Class 0 (AUC = {roc_auc:.2f})')  # Adjust for each class\n",
    "for i in range(1, y_test_bin.shape[1]):\n",
    "    fpr, tpr, _ = roc_curve(y_test_bin[:, i], y_pred_prob[:, i])\n",
    "    plt.plot(fpr, tpr, label=f'Class {i} (AUC = {roc_auc:.2f})')\n",
    "plt.plot([0, 1], [0, 1], linestyle='--', color='gray')\n",
    "plt.xlabel('False Positive Rate')\n",
    "plt.ylabel('True Positive Rate')\n",
    "plt.title('ROC Curve for Each Class')\n",
    "plt.legend(loc='lower right')\n",
    "plt.show()\n",
    "\n",
    "# Step 8: Plot Confusion Matrix\n",
    "conf_matrix = confusion_matrix(y_test, y_pred)\n",
    "plt.figure(figsize=(8, 6))\n",
    "sns.heatmap(conf_matrix, annot=True, fmt='d', cmap='Blues', xticklabels=df[target_column_name].unique(), yticklabels=df[target_column_name].unique())\n",
    "plt.title('Confusion Matrix')\n",
    "plt.xlabel('Predicted Labels')\n",
    "plt.ylabel('True Labels')\n",
    "plt.show()\n",
    "\n",
    "# Step 9: Plot Feature Importances (for RandomForest)\n",
    "feature_importances = grid_search.best_estimator_.feature_importances_\n",
    "features = X.columns\n",
    "plt.figure(figsize=(10, 6))\n",
    "plt.barh(features, feature_importances)\n",
    "plt.xlabel('Feature Importance')\n",
    "plt.title('Feature Importances from RandomForest')\n",
    "plt.show()\n"
   ]
  },
  {
   "cell_type": "markdown",
   "id": "1039a8c1",
   "metadata": {},
   "source": [
    "## Step 10:Hyperparameter Tuning and Cross-Validation"
   ]
  },
  {
   "cell_type": "code",
   "execution_count": null,
   "id": "14c06934",
   "metadata": {},
   "outputs": [
    {
     "name": "stdout",
     "output_type": "stream",
     "text": [
      "Fitting 5 folds for each of 486 candidates, totalling 2430 fits\n"
     ]
    }
   ],
   "source": [
    "from sklearn.model_selection import cross_val_score\n",
    "\n",
    "# Step 10: Hyperparameter Tuning using GridSearchCV and Cross-Validation\n",
    "\n",
    "# Define the parameter grid for Random Forest (you can adjust based on your model)\n",
    "param_grid = {\n",
    "    'n_estimators': [100, 200, 300],      # Number of trees in the forest\n",
    "    'max_depth': [10, 20, None],           # Maximum depth of the tree\n",
    "    'min_samples_split': [2, 5, 10],       # Minimum samples required to split an internal node\n",
    "    'min_samples_leaf': [1, 2, 4],         # Minimum samples required to be at a leaf node\n",
    "    'max_features': ['auto', 'sqrt', 'log2'],  # The number of features to consider when looking for the best split\n",
    "    'bootstrap': [True, False]             # Whether bootstrap samples are used when building trees\n",
    "}\n",
    "\n",
    "# Initialize the RandomForestClassifier\n",
    "clf = RandomForestClassifier(random_state=42)\n",
    "\n",
    "# Perform GridSearchCV for hyperparameter tuning with cross-validation\n",
    "grid_search = GridSearchCV(estimator=clf, param_grid=param_grid, cv=5, verbose=1, n_jobs=-1)\n",
    "\n",
    "# Fit GridSearchCV\n",
    "grid_search.fit(X_train, y_train)\n",
    "\n",
    "# Best parameters and best score from GridSearchCV\n",
    "print(f\"Best Parameters: {grid_search.best_params_}\")\n",
    "print(f\"Best Cross-Validation Score: {grid_search.best_score_:.2f}\")\n",
    "\n",
    "# Best model from GridSearchCV\n",
    "best_model = grid_search.best_estimator_\n",
    "\n",
    "# Evaluate the best model on the test data\n",
    "y_pred_best = best_model.predict(X_test)\n",
    "\n",
    "# Step 11: Print classification report for the best model\n",
    "class_report_best = classification_report(y_test, y_pred_best)\n",
    "print(\"Best Model Classification Report:\\n\", class_report_best)\n",
    "\n",
    "# Step 12: Plot Confusion Matrix for the best model\n",
    "conf_matrix_best = confusion_matrix(y_test, y_pred_best)\n",
    "plt.figure(figsize=(8, 6))\n",
    "sns.heatmap(conf_matrix_best, annot=True, fmt='d', cmap='Blues', xticklabels=df[target_column_name].unique(), yticklabels=df[target_column_name].unique())\n",
    "plt.title('Confusion Matrix (Best Model)')\n",
    "plt.xlabel('Predicted Labels')\n",
    "plt.ylabel('True Labels')\n",
    "plt.show()\n",
    "\n",
    "# Step 13: Plot Feature Importances for the best model\n",
    "feature_importances_best = best_model.feature_importances_\n",
    "plt.figure(figsize=(10, 6))\n",
    "plt.barh(features, feature_importances_best)\n",
    "plt.xlabel('Feature Importance')\n",
    "plt.title('Feature Importances (Best Model)')\n",
    "plt.show()\n",
    "\n",
    "# Step 14: Perform Cross-Validation on the best model\n",
    "cross_val_scores = cross_val_score(best_model, X_train, y_train, cv=5)\n",
    "print(f\"Cross-Validation Scores: {cross_val_scores}\")\n",
    "print(f\"Mean Cross-Validation Score: {cross_val_scores.mean():.2f}\")\n"
   ]
  },
  {
   "cell_type": "code",
   "execution_count": 29,
   "id": "f27700cb",
   "metadata": {},
   "outputs": [
    {
     "name": "stdout",
     "output_type": "stream",
     "text": [
      "Best Model Classification Report:\n",
      "               precision    recall  f1-score   support\n",
      "\n",
      "           0       0.92      0.88      0.90        65\n",
      "           1       0.82      0.94      0.87        62\n",
      "           2       0.93      0.85      0.89        73\n",
      "\n",
      "    accuracy                           0.89       200\n",
      "   macro avg       0.89      0.89      0.89       200\n",
      "weighted avg       0.89      0.89      0.89       200\n",
      "\n"
     ]
    },
    {
     "data": {
      "image/png": "[encoded data removed]",
      "text/plain": [
       "<Figure size 800x600 with 2 Axes>"
      ]
     },
     "metadata": {},
     "output_type": "display_data"
    }
   ],
   "source": [
    "from sklearn.metrics import classification_report, confusion_matrix\n",
    "import seaborn as sns\n",
    "import matplotlib.pyplot as plt\n",
    "\n",
    "# Step 11: Classification Report and Confusion Matrix for the best model\n",
    "\n",
    "# Generate predictions using the best model\n",
    "y_pred_best = best_model.predict(X_test)\n",
    "\n",
    "# 1. Classification Report\n",
    "class_report_best = classification_report(y_test, y_pred_best)\n",
    "print(\"Best Model Classification Report:\\n\", class_report_best)\n",
    "\n",
    "# 2. Confusion Matrix\n",
    "conf_matrix_best = confusion_matrix(y_test, y_pred_best)\n",
    "\n",
    "# Plot Confusion Matrix\n",
    "plt.figure(figsize=(8, 6))\n",
    "sns.heatmap(conf_matrix_best, annot=True, fmt='d', cmap='Blues', xticklabels=df[target_column_name].unique(), yticklabels=df[target_column_name].unique())\n",
    "plt.title('Confusion Matrix (Best Model)')\n",
    "plt.xlabel('Predicted Labels')\n",
    "plt.ylabel('True Labels')\n",
    "plt.show()\n"
   ]
  },
  {
   "cell_type": "code",
   "execution_count": null,
   "id": "a7c62ec2",
   "metadata": {},
   "outputs": [],
   "source": [
    "import joblib\n",
    "\n",
    "# Save the model\n",
    "joblib.dump(best_model, 'best_model.pkl')\n"
   ]
  },
  {
   "cell_type": "code",
   "execution_count": null,
   "id": "1b2d7e39",
   "metadata": {},
   "outputs": [],
   "source": []
  }
 ],
 "metadata": {
  "kernelspec": {
   "display_name": "Python 3 (ipykernel)",
   "language": "python",
   "name": "python3"
  },
  "language_info": {
   "codemirror_mode": {
    "name": "ipython",
    "version": 3
   },
   "file_extension": ".py",
   "mimetype": "text/x-python",
   "name": "python",
   "nbconvert_exporter": "python",
   "pygments_lexer": "ipython3",
   "version": "3.12.5"
  }
 },
 "nbformat": 4,
 "nbformat_minor": 5
}
